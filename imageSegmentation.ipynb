{
  "nbformat": 4,
  "nbformat_minor": 0,
  "metadata": {
    "colab": {
      "name": "imageSegmentation.ipynb",
      "provenance": [],
      "authorship_tag": "ABX9TyM8BpdPJ+A4GVdXBWvgs7QL",
      "include_colab_link": true
    },
    "kernelspec": {
      "name": "python3",
      "display_name": "Python 3"
    }
  },
  "cells": [
    {
      "cell_type": "markdown",
      "metadata": {
        "id": "view-in-github",
        "colab_type": "text"
      },
      "source": [
        "<a href=\"https://colab.research.google.com/github/Jg-Nascimento/ImageSegmentation/blob/main/imageSegmentation.ipynb\" target=\"_parent\"><img src=\"https://colab.research.google.com/assets/colab-badge.svg\" alt=\"Open In Colab\"/></a>"
      ]
    },
    {
      "cell_type": "markdown",
      "metadata": {
        "id": "kwIe-hTk6tU9"
      },
      "source": [
        "[Segmentação de Imagens](https://data-flair.training/blogs/image-segmentation-machine-learning/)"
      ]
    },
    {
      "cell_type": "code",
      "metadata": {
        "id": "KtTeLMGp4y_3"
      },
      "source": [
        "#!wget https://github.com/matterport/Mask_RCNN.git"
      ],
      "execution_count": null,
      "outputs": []
    },
    {
      "cell_type": "code",
      "metadata": {
        "id": "BtFPxY7z5RtA"
      },
      "source": [
        "#!wget https://github.com/matterport/Mask_RCNN/releases"
      ],
      "execution_count": null,
      "outputs": []
    },
    {
      "cell_type": "markdown",
      "metadata": {
        "id": "2KTMpqpc5blQ"
      },
      "source": [
        "importando bibliotecas"
      ]
    },
    {
      "cell_type": "code",
      "metadata": {
        "id": "rxPW4yFf5aWo"
      },
      "source": [
        "import os\n",
        "import sys\n",
        "import random\n",
        "import math\n",
        "import numpy as np\n",
        "import skimage.io\n",
        "import matplotlib\n",
        "import matplotlib.pyplot as plt\n",
        "\n",
        "# Fetching the root directory\n",
        "ROOT_DIR = os.path.abspath(\"../\")\n",
        "\n",
        "import warnings\n",
        "warnings.filterwarnings(\"ignore\")\n",
        "\n",
        "# Importing Mask RCNN \n",
        "sys.path.append(ROOT_DIR)  # To find local version of the library\n",
        "from mrcnn import utils\n",
        "import mrcnn.model as modellib\n",
        "from mrcnn import visualize\n",
        "\n",
        "# Heading to the coco directory\n",
        "sys.path.append(os.path.join(ROOT_DIR, \"samples/coco/\"))  \n",
        "#importing coco.py\n",
        "import coco\n",
        "%matplotlib inline"
      ],
      "execution_count": null,
      "outputs": []
    },
    {
      "cell_type": "markdown",
      "metadata": {
        "id": "wNkqZins5iOJ"
      },
      "source": [
        "diretorio dos arquivos pre-treinados"
      ]
    },
    {
      "cell_type": "code",
      "metadata": {
        "id": "uNnon1K25eGK"
      },
      "source": [
        "# Directory to save logs and trained model\n",
        "MODEL_DIR = os.path.join(ROOT_DIR, \"logs\")\n",
        "\n",
        "# Local path to trained weights file\n",
        "COCO_MODEL_PATH = os.path.join('', \"mask_rcnn_coco.h5\")\n",
        "\n",
        "# Directory of images to run detection on\n",
        "DIR_IMAGE = os.path.join(ROOT_DIR, \"images\")"
      ],
      "execution_count": null,
      "outputs": []
    },
    {
      "cell_type": "markdown",
      "metadata": {
        "id": "Bmn2p_uy5sUk"
      },
      "source": [
        "Classe de inferência para inferir o modelo Mask R-CNN"
      ]
    },
    {
      "cell_type": "code",
      "metadata": {
        "id": "1ssTJHbs5leU"
      },
      "source": [
        "class InferenceConfig(coco.CocoConfig):\n",
        "    # Setting batch size equal to 1 since we'll be running inference on\n",
        "    # one image at a time. Batch size = GPU_COUNT * IMAGES_PER_GPU\n",
        "    GPU_COUNT = 1\n",
        "    IMAGES_PER_GPU = 1\n",
        "\n",
        "config = InferenceConfig()\n",
        "config.display()"
      ],
      "execution_count": null,
      "outputs": []
    },
    {
      "cell_type": "markdown",
      "metadata": {
        "id": "VMdXeuVW52X6"
      },
      "source": [
        "carregando os pesos"
      ]
    },
    {
      "cell_type": "code",
      "metadata": {
        "id": "ofKaGihw5uGi"
      },
      "source": [
        "# Create model objects in inference mode.\n",
        "model = modellib.MaskRCNN(mode=\"inference\", model_dir='mask_rcnn_coco.hy', config=config)\n",
        "\n",
        "# Load weights trained on MS-COCO\n",
        "model.load_weights('mask_rcnn_coco.h5', by_name=True)"
      ],
      "execution_count": null,
      "outputs": []
    },
    {
      "cell_type": "markdown",
      "metadata": {
        "id": "QR5pK1Uu58kB"
      },
      "source": [
        "carregando a imagem e testando o modelo"
      ]
    },
    {
      "cell_type": "code",
      "metadata": {
        "id": "HTjYf62-57e2"
      },
      "source": [
        "mage = skimage.io.imread('../images/4410436637_7b0ca36ee7_z.jpg')\n",
        "\n",
        "# original image\n",
        "plt.figure(figsize=(12,10))\n",
        "\n",
        "skimage.io.imshow(image)"
      ],
      "execution_count": null,
      "outputs": []
    },
    {
      "cell_type": "markdown",
      "metadata": {
        "id": "mxIabOm06GQW"
      },
      "source": [
        "Enviando imagem ao modelo para gerar previsão"
      ]
    },
    {
      "cell_type": "code",
      "metadata": {
        "id": "F3CPF2SF6Bdm"
      },
      "source": [
        "# Run detection\n",
        "results = model.detect([image], verbose=1)"
      ],
      "execution_count": null,
      "outputs": []
    },
    {
      "cell_type": "markdown",
      "metadata": {
        "id": "x-wn_cg76VmG"
      },
      "source": [
        "Mascarando os resultados em nossa imagem"
      ]
    },
    {
      "cell_type": "code",
      "metadata": {
        "id": "-uTaMj006Lsm"
      },
      "source": [
        "# Visualize results\n",
        "r = results[0]\n",
        "visualize.display_instances(image, r['rois'], r['masks'], r['class_ids'],"
      ],
      "execution_count": null,
      "outputs": []
    },
    {
      "cell_type": "markdown",
      "metadata": {
        "id": "3G1CJ_VH6dui"
      },
      "source": [
        "# Número de objetos detectados\n",
        "\n",
        "Agora, se você estiver curioso para detectar o número de objetos que fomos capazes de detectar com sucesso, basta digitar"
      ]
    },
    {
      "cell_type": "code",
      "metadata": {
        "id": "YdK8BJb96L1E"
      },
      "source": [
        "mask = r['masks']\n",
        "mask = mask.astype(int)\n",
        "mask.shape"
      ],
      "execution_count": null,
      "outputs": []
    },
    {
      "cell_type": "code",
      "metadata": {
        "id": "ZCAxfzUw6lzA"
      },
      "source": [
        ""
      ],
      "execution_count": null,
      "outputs": []
    }
  ]
}